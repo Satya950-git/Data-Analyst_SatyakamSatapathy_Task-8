{
 "cells": [
  {
   "cell_type": "code",
   "execution_count": 3,
   "id": "0a26f5b0-18b6-4d96-b252-cc037d4faf26",
   "metadata": {},
   "outputs": [
    {
     "name": "stdout",
     "output_type": "stream",
     "text": [
      "Enhanced dataset saved as student_with_total.csv.\n",
      "Best Model Parameters: {'max_depth': 6, 'min_samples_split': 2, 'n_estimators': 50}\n",
      "Test MSE: 569.95\n"
     ]
    }
   ],
   "source": [
    "# SECTION - 1\n",
    "import pandas as pd\n",
    "from sklearn.model_selection import train_test_split, GridSearchCV\n",
    "from sklearn.ensemble import RandomForestRegressor\n",
    "from sklearn.metrics import mean_squared_error\n",
    "\n",
    "# 1. Load the original dataset\n",
    "df = pd.read_csv('Downloads/student.csv')\n",
    "\n",
    "# 2. Feature Engineering: Add 'Total' score\n",
    "subject_cols = ['Math', 'Physics', 'Chemistry', 'Biology', 'English']\n",
    "df['Total'] = df[subject_cols].sum(axis=1)\n",
    "\n",
    "# 3. Save the enhanced dataset\n",
    "df.to_csv('Downloads/student_with_total.csv', index=False)\n",
    "print('Enhanced dataset saved as student_with_total.csv.')\n",
    "\n",
    "# 4. Prepare features and target\n",
    "# Predict 'Math' score (you can change to any subject you want as the target)\n",
    "X = df[subject_cols + ['Total']].drop('Math', axis=1)\n",
    "y = df['Math']\n",
    "\n",
    "# 5. Train-test split\n",
    "X_train, X_test, y_train, y_test = train_test_split(X, y, test_size=0.2, random_state=42)\n",
    "\n",
    "# 6. Hyperparameter Tuning with GridSearchCV (Random Forest example)\n",
    "param_grid = {\n",
    "    'n_estimators': [50, 100, 200],\n",
    "    'max_depth': [4, 6, 8, None],\n",
    "    'min_samples_split': [2, 4, 8]\n",
    "}\n",
    "model = RandomForestRegressor(random_state=42)\n",
    "grid_search = GridSearchCV(model, param_grid, cv=5, scoring='neg_mean_squared_error')\n",
    "grid_search.fit(X_train, y_train)\n",
    "\n",
    "# 7. Best model performance and output\n",
    "best_model = grid_search.best_estimator_\n",
    "y_pred = best_model.predict(X_test)\n",
    "mse = mean_squared_error(y_test, y_pred)\n",
    "print(f'Best Model Parameters: {grid_search.best_params_}')\n",
    "print(f'Test MSE: {mse:.2f}')\n"
   ]
  },
  {
   "cell_type": "code",
   "execution_count": 4,
   "id": "d42103cc-eba1-4f11-b683-a3a5f63d5a11",
   "metadata": {},
   "outputs": [
    {
     "ename": "SyntaxError",
     "evalue": "unexpected character after line continuation character (3309606854.py, line 45)",
     "output_type": "error",
     "traceback": [
      "\u001b[1;36m  Cell \u001b[1;32mIn[4], line 45\u001b[1;36m\u001b[0m\n\u001b[1;33m    print(\\\"\\\"\\\"\u001b[0m\n\u001b[1;37m           ^\u001b[0m\n\u001b[1;31mSyntaxError\u001b[0m\u001b[1;31m:\u001b[0m unexpected character after line continuation character\n"
     ]
    }
   ],
   "source": [
    "# SECTION - 2\n",
    "# 1. Load & Preprocess the Dataset\n",
    "import pandas as pd\n",
    "from sklearn.preprocessing import LabelEncoder\n",
    "from sklearn.model_selection import train_test_split\n",
    "from sklearn.tree import DecisionTreeClassifier\n",
    "from sklearn.metrics import precision_score, recall_score, f1_score\n",
    "\n",
    "# Load dataset\n",
    "df = pd.read_csv('Downloads/fraud_detection.csv')\n",
    "\n",
    "# Inspect missing values\n",
    "print(df.isnull().sum())\n",
    "\n",
    "# Label Encoding for 'Type'\n",
    "le = LabelEncoder()\n",
    "df['Type_encoded'] = le.fit_transform(df['Type'])\n",
    "\n",
    "# 2. Feature Engineering\n",
    "# Example: Create 'Large_Transaction' for amounts above median\n",
    "df['Large_Transaction'] = (df['Amount'] > df['Amount'].median()).astype(int)\n",
    "# Example: Transaction ID endswith digit (parity feature)\n",
    "df['ID_last_digit'] = df['Transaction ID'].str[-1].astype(int) % 2\n",
    "\n",
    "# 3. Train a Decision Tree Classifier\n",
    "X = df[['Amount', 'Type_encoded', 'Large_Transaction', 'ID_last_digit']]\n",
    "y = df['Is Fraud']\n",
    "\n",
    "X_train, X_test, y_train, y_test = train_test_split(X, y, test_size=0.2, random_state=42)\n",
    "\n",
    "model = DecisionTreeClassifier(random_state=42)\n",
    "model.fit(X_train, y_train)\n",
    "\n",
    "# 4. Evaluate Model Performance\n",
    "y_pred = model.predict(X_test)\n",
    "precision = precision_score(y_test, y_pred)\n",
    "recall = recall_score(y_test, y_pred)\n",
    "f1 = f1_score(y_test, y_pred)\n",
    "\n",
    "print(\"\\nPrecision:\", precision)\n",
    "print(\"Recall:\", recall)\n",
    "print(\"F1-Score:\", f1)\n",
    "\n",
    "# 5. Recommendations for Improvement\n",
    "print(\\\"\\\"\\\"\n",
    "Recommendations:\n",
    "- Try ensemble models like Random Forest for improved accuracy.\n",
    "- Engineer more features (e.g., time-based, account profile, amount patterns).\n",
    "- Apply anomaly detection for unsupervised insights.\n",
    "- Tune hyperparameters for optimal tree depth and splits.\n",
    "- Use SMOTE or resampling for imbalanced classes.\n",
    "\\\"\\\"\\\")\n"
   ]
  },
  {
   "cell_type": "code",
   "execution_count": null,
   "id": "79315cf4-e45a-4a1d-a8e0-36449bea9452",
   "metadata": {},
   "outputs": [],
   "source": []
  }
 ],
 "metadata": {
  "kernelspec": {
   "display_name": "Python 3 (ipykernel)",
   "language": "python",
   "name": "python3"
  },
  "language_info": {
   "codemirror_mode": {
    "name": "ipython",
    "version": 3
   },
   "file_extension": ".py",
   "mimetype": "text/x-python",
   "name": "python",
   "nbconvert_exporter": "python",
   "pygments_lexer": "ipython3",
   "version": "3.13.5"
  }
 },
 "nbformat": 4,
 "nbformat_minor": 5
}
